{
 "cells": [
  {
   "cell_type": "markdown",
   "metadata": {},
   "source": [
    "## CNN для расопзнавания символов"
   ]
  },
  {
   "cell_type": "code",
   "execution_count": 1,
   "metadata": {},
   "outputs": [
    {
     "name": "stderr",
     "output_type": "stream",
     "text": [
      "Using TensorFlow backend.\n"
     ]
    }
   ],
   "source": [
    "from keras import utils\n",
    "from keras.datasets import mnist # dataset\n",
    "from keras.models import Sequential\n",
    "from keras.layers import Dense, Dropout, Conv2D, MaxPooling2D, Reshape\n",
    "from keras.optimizers import Adam\n",
    "import matplotlib.pyplot as plt\n",
    "import numpy as np\n",
    "from sklearn.model_selection import train_test_split\n",
    "from sklearn.preprocessing import LabelBinarizer\n",
    "from keras import regularizers\n",
    "from keras.models import load_model"
   ]
  },
  {
   "cell_type": "code",
   "execution_count": 2,
   "metadata": {},
   "outputs": [],
   "source": [
    "batch_size = 8\n",
    "num_classes = 62\n",
    "epochs = 10"
   ]
  },
  {
   "cell_type": "code",
   "execution_count": 3,
   "metadata": {},
   "outputs": [],
   "source": [
    "def batch_loader(path, id_from=0, id_to=100):\n",
    "    for i in range(id_from, id_to):\n",
    "        X = np.load(path + '/images/{}.npy'.format(i))\n",
    "        X.dtype=np.uint8\n",
    "        y = np.load(path + '/answers/{}.npy'.format(i))\n",
    "        yield np.unpackbits(X, axis = 2), y\n",
    "        \n",
    "def generator_for_CNN(path, LB, id_from=0, id_to=100):\n",
    "    i = id_from\n",
    "    while 1:\n",
    "        print('GENRUN', i)\n",
    "        if i == id_to:\n",
    "            i = id_from\n",
    "        X = np.load(path + '/images/{}.npy'.format(i))\n",
    "        X.dtype=np.uint8\n",
    "        y = np.load(path + '/answers/{}.npy'.format(i))\n",
    "        i += 1\n",
    "        X = np.unpackbits(X, axis = 2)\n",
    "        yield X.reshape(*X.shape, 1), LB.transform(y)\n"
   ]
  },
  {
   "cell_type": "code",
   "execution_count": 4,
   "metadata": {},
   "outputs": [],
   "source": [
    "LB = LabelBinarizer()\n",
    "for X, y in batch_loader('Generator/generated', 0, 1):\n",
    "    X_train, y_train = X.reshape(*X.shape, 1), LB.fit_transform(y)\n",
    "\n",
    "for X, y in batch_loader('Generator/generated', 1, 2):\n",
    "    X_test, y_test = X.reshape(*X.shape, 1), LB.transform(y)"
   ]
  },
  {
   "cell_type": "code",
   "execution_count": 5,
   "metadata": {
    "scrolled": false
   },
   "outputs": [
    {
     "name": "stdout",
     "output_type": "stream",
     "text": [
      "_________________________________________________________________\n",
      "Layer (type)                 Output Shape              Param #   \n",
      "=================================================================\n",
      "conv2d_1 (Conv2D)            (None, 64, 64, 8)         80        \n",
      "_________________________________________________________________\n",
      "conv2d_2 (Conv2D)            (None, 64, 64, 8)         584       \n",
      "_________________________________________________________________\n",
      "dropout_1 (Dropout)          (None, 64, 64, 8)         0         \n",
      "_________________________________________________________________\n",
      "conv2d_3 (Conv2D)            (None, 64, 64, 8)         584       \n",
      "_________________________________________________________________\n",
      "dropout_2 (Dropout)          (None, 64, 64, 8)         0         \n",
      "_________________________________________________________________\n",
      "max_pooling2d_1 (MaxPooling2 (None, 32, 32, 8)         0         \n",
      "_________________________________________________________________\n",
      "conv2d_4 (Conv2D)            (None, 32, 32, 8)         584       \n",
      "_________________________________________________________________\n",
      "dropout_3 (Dropout)          (None, 32, 32, 8)         0         \n",
      "_________________________________________________________________\n",
      "conv2d_5 (Conv2D)            (None, 32, 32, 8)         584       \n",
      "_________________________________________________________________\n",
      "dropout_4 (Dropout)          (None, 32, 32, 8)         0         \n",
      "_________________________________________________________________\n",
      "max_pooling2d_2 (MaxPooling2 (None, 16, 16, 8)         0         \n",
      "_________________________________________________________________\n",
      "reshape_1 (Reshape)          (None, 2048)              0         \n",
      "_________________________________________________________________\n",
      "dense_1 (Dense)              (None, 62)                127038    \n",
      "=================================================================\n",
      "Total params: 129,454\n",
      "Trainable params: 129,454\n",
      "Non-trainable params: 0\n",
      "_________________________________________________________________\n"
     ]
    }
   ],
   "source": [
    "\n",
    "# create model\n",
    "model = Sequential()\n",
    "\n",
    "model.add(Conv2D(filters = batch_size, \n",
    "                         kernel_size=3, \n",
    "                         activation='relu', \n",
    "                         padding='same',\n",
    "                         input_shape=(64, 64, 1),\n",
    "                         data_format='channels_last'))\n",
    "for i in range(2):\n",
    "    for j in range(2):\n",
    "        model.add(Conv2D(filters = batch_size, \n",
    "                         kernel_size=3, \n",
    "                         padding='same',\n",
    "                         activation='relu'))\n",
    "        model.add(Dropout(0.2))\n",
    "    model.add(MaxPooling2D())\n",
    "model.add(Reshape([256 * batch_size]))\n",
    "model.add(Dense(num_classes, \n",
    "                activation='softmax'\n",
    "               )\n",
    "         )\n",
    "\n",
    "# print model summarization\n",
    "model.summary()\n",
    "\n",
    "model.compile(loss='categorical_crossentropy',\n",
    "              optimizer=Adam(),\n",
    "              metrics=['accuracy'])"
   ]
  },
  {
   "cell_type": "code",
   "execution_count": 6,
   "metadata": {},
   "outputs": [
    {
     "name": "stdout",
     "output_type": "stream",
     "text": [
      "Train on 10000 samples, validate on 10000 samples\n",
      "Epoch 1/10\n",
      "10000/10000 [==============================] - 63s 6ms/step - loss: 1.7528 - acc: 0.5438 - val_loss: 1.1191 - val_acc: 0.7616\n",
      "Epoch 2/10\n",
      "10000/10000 [==============================] - 60s 6ms/step - loss: 0.6921 - acc: 0.8014 - val_loss: 0.8689 - val_acc: 0.7781\n",
      "Epoch 3/10\n",
      "10000/10000 [==============================] - 62s 6ms/step - loss: 0.5039 - acc: 0.8485 - val_loss: 0.7023 - val_acc: 0.8112\n",
      "Epoch 4/10\n",
      "10000/10000 [==============================] - 63s 6ms/step - loss: 0.3932 - acc: 0.8740 - val_loss: 0.7029 - val_acc: 0.8253\n",
      "Epoch 5/10\n",
      "10000/10000 [==============================] - 63s 6ms/step - loss: 0.3161 - acc: 0.8991 - val_loss: 0.6133 - val_acc: 0.8356\n",
      "Epoch 6/10\n",
      "10000/10000 [==============================] - 65s 6ms/step - loss: 0.2612 - acc: 0.9142 - val_loss: 0.5650 - val_acc: 0.8420\n",
      "Epoch 7/10\n",
      "10000/10000 [==============================] - 64s 6ms/step - loss: 0.2343 - acc: 0.9198 - val_loss: 0.5567 - val_acc: 0.8390\n",
      "Epoch 8/10\n",
      "10000/10000 [==============================] - 64s 6ms/step - loss: 0.1977 - acc: 0.9325 - val_loss: 0.5772 - val_acc: 0.8347\n",
      "Epoch 9/10\n",
      "10000/10000 [==============================] - 65s 6ms/step - loss: 0.1862 - acc: 0.9380 - val_loss: 0.5507 - val_acc: 0.8445\n",
      "Epoch 10/10\n",
      "10000/10000 [==============================] - 64s 6ms/step - loss: 0.1700 - acc: 0.9431 - val_loss: 0.5479 - val_acc: 0.8459\n",
      "Test loss: 0.5479394251823425\n",
      "Test accuracy: 0.8459\n"
     ]
    }
   ],
   "source": [
    "history = model.fit(X_train, y_train,\n",
    "                    batch_size=batch_size,\n",
    "                    epochs=epochs,\n",
    "                    validation_data=(X_test, y_test))\n",
    "# evaluate model\n",
    "score = model.evaluate(X_test, y_test, verbose=0)\n",
    "print('Test loss:', score[0])\n",
    "print('Test accuracy:', score[1])"
   ]
  },
  {
   "cell_type": "code",
   "execution_count": 8,
   "metadata": {},
   "outputs": [],
   "source": [
    "model.save('base_model.h5')"
   ]
  }
 ],
 "metadata": {
  "kernelspec": {
   "display_name": "Python 3",
   "language": "python",
   "name": "python3"
  },
  "language_info": {
   "codemirror_mode": {
    "name": "ipython",
    "version": 3
   },
   "file_extension": ".py",
   "mimetype": "text/x-python",
   "name": "python",
   "nbconvert_exporter": "python",
   "pygments_lexer": "ipython3",
   "version": "3.5.2"
  }
 },
 "nbformat": 4,
 "nbformat_minor": 2
}
